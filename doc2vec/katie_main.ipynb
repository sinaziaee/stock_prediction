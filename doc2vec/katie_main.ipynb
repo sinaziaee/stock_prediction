{
 "cells": [
  {
   "cell_type": "code",
   "execution_count": 2,
   "metadata": {},
   "outputs": [
    {
     "name": "stderr",
     "output_type": "stream",
     "text": [
      "[nltk_data] Downloading package stopwords to\n",
      "[nltk_data]     C:\\Users\\sinaz\\AppData\\Roaming\\nltk_data...\n",
      "[nltk_data]   Package stopwords is already up-to-date!\n"
     ]
    }
   ],
   "source": [
    "import warnings\n",
    "warnings.filterwarnings('ignore')\n",
    "import pandas as pd\n",
    "import nltk\n",
    "nltk.download('stopwords')\n",
    "# from nltk.tokenize import TweetTokenizer\n",
    "from nltk.corpus import stopwords\n",
    "from sklearn.model_selection import train_test_split\n",
    "from gensim.models.doc2vec import Doc2Vec, TaggedDocument\n",
    "from transformers import BertTokenizer, BertModel, get_linear_schedule_with_warmup"
   ]
  },
  {
   "cell_type": "code",
   "execution_count": 3,
   "metadata": {},
   "outputs": [
    {
     "data": {
      "text/html": [
       "<div>\n",
       "<style scoped>\n",
       "    .dataframe tbody tr th:only-of-type {\n",
       "        vertical-align: middle;\n",
       "    }\n",
       "\n",
       "    .dataframe tbody tr th {\n",
       "        vertical-align: top;\n",
       "    }\n",
       "\n",
       "    .dataframe thead th {\n",
       "        text-align: right;\n",
       "    }\n",
       "</style>\n",
       "<table border=\"1\" class=\"dataframe\">\n",
       "  <thead>\n",
       "    <tr style=\"text-align: right;\">\n",
       "      <th></th>\n",
       "      <th>stock</th>\n",
       "      <th>title</th>\n",
       "      <th>text</th>\n",
       "      <th>date</th>\n",
       "      <th>time</th>\n",
       "      <th>am_pm</th>\n",
       "    </tr>\n",
       "  </thead>\n",
       "  <tbody>\n",
       "    <tr>\n",
       "      <th>0</th>\n",
       "      <td>AAPL</td>\n",
       "      <td>Morning Bid: Dollar surges after central bank ...</td>\n",
       "      <td>A look at the day ahead in U.S. and global mar...</td>\n",
       "      <td>2024-03-22</td>\n",
       "      <td>06:08</td>\n",
       "      <td>AM</td>\n",
       "    </tr>\n",
       "    <tr>\n",
       "      <th>1</th>\n",
       "      <td>AAPL</td>\n",
       "      <td>Evercore says Apple sell-off is overdone, sees...</td>\n",
       "      <td>Apple (NASDAQ:AAPL) stock remains one of the v...</td>\n",
       "      <td>2024-03-11</td>\n",
       "      <td>16:54</td>\n",
       "      <td>PM</td>\n",
       "    </tr>\n",
       "    <tr>\n",
       "      <th>2</th>\n",
       "      <td>AAPL</td>\n",
       "      <td>US House passes bill to force ByteDance to div...</td>\n",
       "      <td>By David ShepardsonWASHINGTON (Reuters) -The U...</td>\n",
       "      <td>2024-03-13</td>\n",
       "      <td>06:01</td>\n",
       "      <td>AM</td>\n",
       "    </tr>\n",
       "  </tbody>\n",
       "</table>\n",
       "</div>"
      ],
      "text/plain": [
       "  stock                                              title  \\\n",
       "0  AAPL  Morning Bid: Dollar surges after central bank ...   \n",
       "1  AAPL  Evercore says Apple sell-off is overdone, sees...   \n",
       "2  AAPL  US House passes bill to force ByteDance to div...   \n",
       "\n",
       "                                                text        date   time am_pm  \n",
       "0  A look at the day ahead in U.S. and global mar...  2024-03-22  06:08    AM  \n",
       "1  Apple (NASDAQ:AAPL) stock remains one of the v...  2024-03-11  16:54    PM  \n",
       "2  By David ShepardsonWASHINGTON (Reuters) -The U...  2024-03-13  06:01    AM  "
      ]
     },
     "execution_count": 3,
     "metadata": {},
     "output_type": "execute_result"
    }
   ],
   "source": [
    "df = pd.read_csv('../datasets/stock_news.csv')\n",
    "df.head(3)"
   ]
  },
  {
   "cell_type": "code",
   "execution_count": 48,
   "metadata": {},
   "outputs": [
    {
     "data": {
      "text/html": [
       "<div>\n",
       "<style scoped>\n",
       "    .dataframe tbody tr th:only-of-type {\n",
       "        vertical-align: middle;\n",
       "    }\n",
       "\n",
       "    .dataframe tbody tr th {\n",
       "        vertical-align: top;\n",
       "    }\n",
       "\n",
       "    .dataframe thead th {\n",
       "        text-align: right;\n",
       "    }\n",
       "</style>\n",
       "<table border=\"1\" class=\"dataframe\">\n",
       "  <thead>\n",
       "    <tr style=\"text-align: right;\">\n",
       "      <th></th>\n",
       "      <th>stock</th>\n",
       "      <th>title</th>\n",
       "      <th>text</th>\n",
       "      <th>date</th>\n",
       "      <th>time</th>\n",
       "      <th>am_pm</th>\n",
       "    </tr>\n",
       "  </thead>\n",
       "  <tbody>\n",
       "    <tr>\n",
       "      <th>4252</th>\n",
       "      <td>TSLA</td>\n",
       "      <td>Xiaomi takes aim at Tesla in Chinese auto mark...</td>\n",
       "      <td>By Sarah Wu and Yelin MoBEIJING (Reuters) - Ch...</td>\n",
       "      <td>2024-03-27</td>\n",
       "      <td>19:01</td>\n",
       "      <td>PM</td>\n",
       "    </tr>\n",
       "    <tr>\n",
       "      <th>4253</th>\n",
       "      <td>TSLA</td>\n",
       "      <td>Tesla appears unlikely to nix US suit alleging...</td>\n",
       "      <td>By Daniel Wiessner(Reuters) - A federal judge ...</td>\n",
       "      <td>2024-03-28</td>\n",
       "      <td>16:57</td>\n",
       "      <td>PM</td>\n",
       "    </tr>\n",
       "    <tr>\n",
       "      <th>4254</th>\n",
       "      <td>TSLA</td>\n",
       "      <td>With China EV launch, Xiaomi's 'Thor' takes on...</td>\n",
       "      <td>By Sarah WuBEIJING (Reuters) -He was called Ch...</td>\n",
       "      <td>2024-03-29</td>\n",
       "      <td>07:19</td>\n",
       "      <td>AM</td>\n",
       "    </tr>\n",
       "  </tbody>\n",
       "</table>\n",
       "</div>"
      ],
      "text/plain": [
       "     stock                                              title  \\\n",
       "4252  TSLA  Xiaomi takes aim at Tesla in Chinese auto mark...   \n",
       "4253  TSLA  Tesla appears unlikely to nix US suit alleging...   \n",
       "4254  TSLA  With China EV launch, Xiaomi's 'Thor' takes on...   \n",
       "\n",
       "                                                   text        date   time  \\\n",
       "4252  By Sarah Wu and Yelin MoBEIJING (Reuters) - Ch...  2024-03-27  19:01   \n",
       "4253  By Daniel Wiessner(Reuters) - A federal judge ...  2024-03-28  16:57   \n",
       "4254  By Sarah WuBEIJING (Reuters) -He was called Ch...  2024-03-29  07:19   \n",
       "\n",
       "     am_pm  \n",
       "4252    PM  \n",
       "4253    PM  \n",
       "4254    AM  "
      ]
     },
     "execution_count": 48,
     "metadata": {},
     "output_type": "execute_result"
    }
   ],
   "source": [
    "df.tail(3)"
   ]
  },
  {
   "cell_type": "code",
   "execution_count": 4,
   "metadata": {},
   "outputs": [
    {
     "data": {
      "text/html": [
       "<div>\n",
       "<style scoped>\n",
       "    .dataframe tbody tr th:only-of-type {\n",
       "        vertical-align: middle;\n",
       "    }\n",
       "\n",
       "    .dataframe tbody tr th {\n",
       "        vertical-align: top;\n",
       "    }\n",
       "\n",
       "    .dataframe thead th {\n",
       "        text-align: right;\n",
       "    }\n",
       "</style>\n",
       "<table border=\"1\" class=\"dataframe\">\n",
       "  <thead>\n",
       "    <tr style=\"text-align: right;\">\n",
       "      <th></th>\n",
       "      <th>content</th>\n",
       "    </tr>\n",
       "  </thead>\n",
       "  <tbody>\n",
       "    <tr>\n",
       "      <th>0</th>\n",
       "      <td>Morning Bid: Dollar surges after central bank ...</td>\n",
       "    </tr>\n",
       "    <tr>\n",
       "      <th>1</th>\n",
       "      <td>Evercore says Apple sell-off is overdone, sees...</td>\n",
       "    </tr>\n",
       "    <tr>\n",
       "      <th>2</th>\n",
       "      <td>US House passes bill to force ByteDance to div...</td>\n",
       "    </tr>\n",
       "  </tbody>\n",
       "</table>\n",
       "</div>"
      ],
      "text/plain": [
       "                                             content\n",
       "0  Morning Bid: Dollar surges after central bank ...\n",
       "1  Evercore says Apple sell-off is overdone, sees...\n",
       "2  US House passes bill to force ByteDance to div..."
      ]
     },
     "execution_count": 4,
     "metadata": {},
     "output_type": "execute_result"
    }
   ],
   "source": [
    "df_subset = pd.DataFrame()\n",
    "df_subset['content'] = df['title'] + ' ' + df['text']\n",
    "df_subset.head(3)"
   ]
  },
  {
   "cell_type": "code",
   "execution_count": 53,
   "metadata": {},
   "outputs": [],
   "source": [
    "apple_df = df_subset[:9]\n",
    "tsla_df = df_subset[-9:]"
   ]
  },
  {
   "cell_type": "code",
   "execution_count": 60,
   "metadata": {},
   "outputs": [],
   "source": [
    "#strip_handles removes personal information such as twitter handles, which don't\n",
    "#contribute to emotion in the tweet. preserve_case=False converts everything to lowercase.\n",
    "# tweeter = TweetTokenizer(strip_handles=True,preserve_case=False)\n",
    "from nltk.tokenize import word_tokenize\n",
    "# pre_trained_model_ckpt = 'bert-base-uncased'\n",
    "# tokenizer = BertTokenizer.from_pretrained(pre_trained_model_ckpt)\n",
    "mystopwords = set(stopwords.words(\"english\"))\n",
    "\n",
    "#Function to tokenize tweets, remove stopwords and numbers. \n",
    "#Keeping punctuations and emoticon symbols could be relevant for this task!\n",
    "def preprocess_corpus(texts):\n",
    "    def remove_stops_digits(tokens):\n",
    "        #Nested function that removes stopwords and digits from a list of tokens\n",
    "        return [token for token in tokens if token not in mystopwords and not token.isdigit()]\n",
    "    #This return statement below uses the above function to process twitter tokenizer output further. \n",
    "    # return [remove_stops_digits(tweeter.tokenize(content)) for content in texts]\n",
    "    return [remove_stops_digits(word_tokenize(content)) for content in texts]\n",
    "\n",
    "#df_subset contains only the three categories we chose. \n",
    "mydata = preprocess_corpus(df_subset['content'])\n",
    "# mydata = preprocess_corpus(tsla_df['content'])\n",
    "# mydata = preprocess_corpus(apple_df['content'])\n"
   ]
  },
  {
   "cell_type": "code",
   "execution_count": 65,
   "metadata": {},
   "outputs": [
    {
     "name": "stdout",
     "output_type": "stream",
     "text": [
      "Model Saved\n"
     ]
    }
   ],
   "source": [
    "#Split data into train and test, following the usual process\n",
    "# train_data, test_data = train_test_split(mydata,random_state=1234)\n",
    "\n",
    "#prepare training data in doc2vec format:\n",
    "train_doc2vec = [TaggedDocument((d), tags=[str(i)]) for i, d in enumerate(mydata)]\n",
    "#Train a doc2vec model to learn tweet representations. Use only training data!!\n",
    "model = Doc2Vec(vector_size=50, alpha=0.025, min_count=5, dm =1, epochs=5)\n",
    "model.build_vocab(train_doc2vec)\n",
    "model.train(train_doc2vec, total_examples=model.corpus_count, epochs=model.epochs)\n",
    "model.save(\"d2v.model\")\n",
    "print(\"Model Saved\")"
   ]
  },
  {
   "cell_type": "code",
   "execution_count": 66,
   "metadata": {},
   "outputs": [],
   "source": [
    "#Infer the feature representation for training and test data using the trained model\n",
    "model= Doc2Vec.load(\"d2v.model\")\n",
    "#infer in multiple steps to get a stable representation. \n",
    "data_vector =  [model.infer_vector(list_of_tokens) for list_of_tokens in mydata]\n",
    "\n",
    "import numpy as np\n",
    "data_vector = np.array(data_vector)"
   ]
  },
  {
   "cell_type": "code",
   "execution_count": 68,
   "metadata": {},
   "outputs": [
    {
     "name": "stdout",
     "output_type": "stream",
     "text": [
      "[23.800198 20.55851 ]\n",
      "2-component PCA, explains 44.36% of variance\n"
     ]
    }
   ],
   "source": [
    "import altair as alt\n",
    "from sklearn.decomposition import PCA\n",
    "\n",
    "def pca_2d(paragraph_matrix):\n",
    "    pca = PCA(n_components=2)\n",
    "    reduced_dims = pca.fit_transform(paragraph_matrix)\n",
    "    print(pca.explained_variance_)\n",
    "    \n",
    "    print(f\"2-component PCA, explains {sum(pca.explained_variance_):.2f}% of variance\")\n",
    "    df = pd.DataFrame(reduced_dims, columns=[\"x\", \"y\"])\n",
    "    df[\"component\"] = np.arange(len(df))  # Assign a component number to each data point\n",
    "    return df\n",
    "\n",
    "example_2d = pca_2d(data_vector)\n",
    "chart = alt.Chart(example_2d).mark_point().encode(\n",
    "    x=\"x\",\n",
    "    y=\"y\",\n",
    "    color=\"component:N\"  # Encode the component as a nominal color channel\n",
    ")\n",
    "chart.save('results/9999.html')"
   ]
  },
  {
   "cell_type": "code",
   "execution_count": null,
   "metadata": {},
   "outputs": [],
   "source": []
  }
 ],
 "metadata": {
  "kernelspec": {
   "display_name": "sina",
   "language": "python",
   "name": "python3"
  },
  "language_info": {
   "codemirror_mode": {
    "name": "ipython",
    "version": 3
   },
   "file_extension": ".py",
   "mimetype": "text/x-python",
   "name": "python",
   "nbconvert_exporter": "python",
   "pygments_lexer": "ipython3",
   "version": "3.10.13"
  }
 },
 "nbformat": 4,
 "nbformat_minor": 2
}
