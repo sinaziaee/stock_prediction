{
 "cells": [
  {
   "cell_type": "code",
   "execution_count": 2,
   "metadata": {},
   "outputs": [
    {
     "data": {
      "text/html": [
       "<div>\n",
       "<style scoped>\n",
       "    .dataframe tbody tr th:only-of-type {\n",
       "        vertical-align: middle;\n",
       "    }\n",
       "\n",
       "    .dataframe tbody tr th {\n",
       "        vertical-align: top;\n",
       "    }\n",
       "\n",
       "    .dataframe thead th {\n",
       "        text-align: right;\n",
       "    }\n",
       "</style>\n",
       "<table border=\"1\" class=\"dataframe\">\n",
       "  <thead>\n",
       "    <tr style=\"text-align: right;\">\n",
       "      <th></th>\n",
       "      <th>stock</th>\n",
       "      <th>title</th>\n",
       "      <th>text</th>\n",
       "      <th>date</th>\n",
       "      <th>time</th>\n",
       "      <th>am_pm</th>\n",
       "    </tr>\n",
       "  </thead>\n",
       "  <tbody>\n",
       "    <tr>\n",
       "      <th>0</th>\n",
       "      <td>AAPL</td>\n",
       "      <td>BofA expects 'strong refresh cycle' for iPhone...</td>\n",
       "      <td>Citing findings from their global smartphone...</td>\n",
       "      <td>2024-02-28</td>\n",
       "      <td>07:49</td>\n",
       "      <td>AM</td>\n",
       "    </tr>\n",
       "    <tr>\n",
       "      <th>1</th>\n",
       "      <td>AAPL</td>\n",
       "      <td>Apple cancels decade-long electric car project...</td>\n",
       "      <td>By Stephen Nellis and Shivansh Tiwary(Reuter...</td>\n",
       "      <td>2024-02-27</td>\n",
       "      <td>15:47</td>\n",
       "      <td>PM</td>\n",
       "    </tr>\n",
       "  </tbody>\n",
       "</table>\n",
       "</div>"
      ],
      "text/plain": [
       "  stock                                              title  \\\n",
       "0  AAPL  BofA expects 'strong refresh cycle' for iPhone...   \n",
       "1  AAPL  Apple cancels decade-long electric car project...   \n",
       "\n",
       "                                                text        date   time am_pm  \n",
       "0    Citing findings from their global smartphone...  2024-02-28  07:49    AM  \n",
       "1    By Stephen Nellis and Shivansh Tiwary(Reuter...  2024-02-27  15:47    PM  "
      ]
     },
     "execution_count": 2,
     "metadata": {},
     "output_type": "execute_result"
    }
   ],
   "source": [
    "import numpy as np\n",
    "import pandas as pd\n",
    "import os\n",
    "import spacy\n",
    "nlp = spacy.load(\"en_core_web_sm\")\n",
    "\n",
    "df = pd.read_csv(os.path.join('..', 'datasets', 'stock_news.csv'))\n",
    "df.head(2)\n"
   ]
  },
  {
   "cell_type": "code",
   "execution_count": 6,
   "metadata": {},
   "outputs": [
    {
     "data": {
      "text/html": [
       "<div>\n",
       "<style scoped>\n",
       "    .dataframe tbody tr th:only-of-type {\n",
       "        vertical-align: middle;\n",
       "    }\n",
       "\n",
       "    .dataframe tbody tr th {\n",
       "        vertical-align: top;\n",
       "    }\n",
       "\n",
       "    .dataframe thead th {\n",
       "        text-align: right;\n",
       "    }\n",
       "</style>\n",
       "<table border=\"1\" class=\"dataframe\">\n",
       "  <thead>\n",
       "    <tr style=\"text-align: right;\">\n",
       "      <th></th>\n",
       "      <th>news</th>\n",
       "      <th>label</th>\n",
       "      <th>tokens</th>\n",
       "    </tr>\n",
       "  </thead>\n",
       "  <tbody>\n",
       "    <tr>\n",
       "      <th>0</th>\n",
       "      <td>BofA expects 'strong refresh cycle' for iPhone...</td>\n",
       "      <td>NaN</td>\n",
       "      <td>[bofa, expects, strong, refresh, cycle, for, i...</td>\n",
       "    </tr>\n",
       "    <tr>\n",
       "      <th>1</th>\n",
       "      <td>Apple cancels decade-long electric car project...</td>\n",
       "      <td>NaN</td>\n",
       "      <td>[apple, cancels, decade, long, electric, car, ...</td>\n",
       "    </tr>\n",
       "  </tbody>\n",
       "</table>\n",
       "</div>"
      ],
      "text/plain": [
       "                                                news label  \\\n",
       "0  BofA expects 'strong refresh cycle' for iPhone...   NaN   \n",
       "1  Apple cancels decade-long electric car project...   NaN   \n",
       "\n",
       "                                              tokens  \n",
       "0  [bofa, expects, strong, refresh, cycle, for, i...  \n",
       "1  [apple, cancels, decade, long, electric, car, ...  "
      ]
     },
     "execution_count": 6,
     "metadata": {},
     "output_type": "execute_result"
    }
   ],
   "source": [
    "def load_dataset():\n",
    "    df = pd.read_csv(os.path.join('..', 'datasets', 'stock_news.csv'))\n",
    "    # create a new dataset with columns news and label\n",
    "    temp_df = pd.DataFrame(columns=['news', 'label'])\n",
    "    # concat stock, title and text into news\n",
    "    temp_df['news'] = df['title'] + ' ' + df['text']\n",
    "    temp_df.head(2)\n",
    "    return temp_df\n",
    "\n",
    "def tokenize_text(df):\n",
    "    df[\"tokens\"] = df.news.str.lower().str.strip().apply(lambda x: [token.text.strip() for token in nlp(x) if token.text.isalnum()])\n",
    "    return df\n",
    "\n",
    "\n",
    "df = load_dataset()\n",
    "df = tokenize_text(df)\n",
    "df.head(2)"
   ]
  },
  {
   "cell_type": "code",
   "execution_count": 9,
   "metadata": {},
   "outputs": [
    {
     "name": "stdout",
     "output_type": "stream",
     "text": [
      "<class 'pandas.core.frame.DataFrame'>\n",
      "RangeIndex: 52 entries, 0 to 51\n",
      "Data columns (total 3 columns):\n",
      " #   Column  Non-Null Count  Dtype \n",
      "---  ------  --------------  ----- \n",
      " 0   news    52 non-null     object\n",
      " 1   label   0 non-null      object\n",
      " 2   tokens  52 non-null     object\n",
      "dtypes: object(3)\n",
      "memory usage: 1.3+ KB\n"
     ]
    }
   ],
   "source": []
  },
  {
   "cell_type": "code",
   "execution_count": 8,
   "metadata": {},
   "outputs": [
    {
     "name": "stdout",
     "output_type": "stream",
     "text": [
      "166\n",
      "513\n",
      "416\n",
      "443\n",
      "655\n",
      "251\n",
      "370\n",
      "379\n",
      "350\n",
      "188\n",
      "154\n",
      "514\n",
      "529\n",
      "245\n",
      "421\n",
      "629\n",
      "421\n",
      "249\n",
      "522\n",
      "375\n",
      "487\n",
      "556\n",
      "728\n",
      "327\n",
      "322\n",
      "243\n",
      "437\n",
      "736\n",
      "319\n",
      "370\n",
      "430\n",
      "404\n",
      "296\n",
      "593\n",
      "696\n",
      "575\n",
      "142\n",
      "437\n",
      "163\n",
      "704\n",
      "258\n",
      "946\n",
      "268\n",
      "292\n",
      "626\n",
      "244\n",
      "1283\n",
      "407\n",
      "839\n",
      "312\n",
      "308\n",
      "395\n"
     ]
    }
   ],
   "source": [
    "for token_list in df.tokens:\n",
    "    print(len(token_list))"
   ]
  },
  {
   "cell_type": "code",
   "execution_count": null,
   "metadata": {},
   "outputs": [],
   "source": []
  }
 ],
 "metadata": {
  "kernelspec": {
   "display_name": "sina",
   "language": "python",
   "name": "python3"
  },
  "language_info": {
   "codemirror_mode": {
    "name": "ipython",
    "version": 3
   },
   "file_extension": ".py",
   "mimetype": "text/x-python",
   "name": "python",
   "nbconvert_exporter": "python",
   "pygments_lexer": "ipython3",
   "version": "3.11.7"
  }
 },
 "nbformat": 4,
 "nbformat_minor": 2
}
