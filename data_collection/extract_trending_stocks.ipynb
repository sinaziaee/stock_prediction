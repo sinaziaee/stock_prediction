{
 "cells": [
  {
   "cell_type": "code",
   "execution_count": 3,
   "metadata": {},
   "outputs": [],
   "source": [
    "import requests\n",
    "from bs4 import BeautifulSoup\n",
    "import pandas as pd\n",
    "import json\n",
    "import utils as utils\n",
    "from datetime import datetime as dt\n",
    "from newspaper import Article\n",
    "import os"
   ]
  },
  {
   "cell_type": "code",
   "execution_count": 4,
   "metadata": {},
   "outputs": [],
   "source": [
    "url = 'https://www.investing.com/equities/trending-stocks'\n",
    "BASE_URL = 'https://www.investing.com'\n",
    "request = requests.get(url).text\n",
    "raw_text = BeautifulSoup(request, 'html.parser')\n",
    "trending_stocks = raw_text.find('div', {'id': 'trendingInnerContent'})\n",
    "stock_elements = trending_stocks.find_all('td', class_='left bold plusIconTd elp')\n",
    "MAX_NUM_PAGES = 20"
   ]
  },
  {
   "cell_type": "code",
   "execution_count": 10,
   "metadata": {},
   "outputs": [],
   "source": [
    "def extract_stock_info(stock_elements):\n",
    "    stock_dict = {'company': [], 'stock': [], 'link': []}\n",
    "    for element in stock_elements:\n",
    "        company_name = element.find('a')['title']\n",
    "        company_name = company_name.replace('\\xa0', ' ')\n",
    "        stock_name = element.find('a').text\n",
    "        link = element.find('a')['href']\n",
    "        full_link = f'{BASE_URL}{link}'\n",
    "        stock_dict['company'].append(company_name)\n",
    "        stock_dict['stock'].append(stock_name)\n",
    "        stock_dict['link'].append(full_link)\n",
    "    df = pd.DataFrame(stock_dict)\n",
    "    return stock_dict, df\n",
    "stock_dict, df = extract_stock_info(stock_elements)\n",
    "# save stock_dict to json\n",
    "utils.save_dict_to_json(stock_dict, '../datasets/trending_stocks.json')"
   ]
  },
  {
   "cell_type": "markdown",
   "metadata": {},
   "source": [
    "# Match tickers to the stocks\n",
    "Find the tickers names from chat gpt and save as ticker.json"
   ]
  },
  {
   "cell_type": "code",
   "execution_count": 11,
   "metadata": {},
   "outputs": [],
   "source": [
    "tickers_dict = utils.load_dict_from_json('../datasets/ticker.json')\n",
    "df['ticker'] = list(tickers_dict.values())\n",
    "df.to_csv('../datasets/stocks.csv', index=False)"
   ]
  },
  {
   "cell_type": "code",
   "execution_count": null,
   "metadata": {},
   "outputs": [],
   "source": []
  }
 ],
 "metadata": {
  "kernelspec": {
   "display_name": "nlp",
   "language": "python",
   "name": "python3"
  },
  "language_info": {
   "codemirror_mode": {
    "name": "ipython",
    "version": 3
   },
   "file_extension": ".py",
   "mimetype": "text/x-python",
   "name": "python",
   "nbconvert_exporter": "python",
   "pygments_lexer": "ipython3",
   "version": "3.10.13"
  }
 },
 "nbformat": 4,
 "nbformat_minor": 2
}
