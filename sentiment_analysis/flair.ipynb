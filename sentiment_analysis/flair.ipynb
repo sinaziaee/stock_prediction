{
 "cells": [
  {
   "cell_type": "code",
   "execution_count": 2,
   "metadata": {},
   "outputs": [
    {
     "name": "stderr",
     "output_type": "stream",
     "text": [
      "c:\\Users\\sinaz\\.conda\\envs\\sina\\Lib\\site-packages\\tqdm\\auto.py:21: TqdmWarning: IProgress not found. Please update jupyter and ipywidgets. See https://ipywidgets.readthedocs.io/en/stable/user_install.html\n",
      "  from .autonotebook import tqdm as notebook_tqdm\n"
     ]
    },
    {
     "name": "stdout",
     "output_type": "stream",
     "text": [
      "True\n",
      "cuda\n"
     ]
    }
   ],
   "source": [
    "import pandas as pd\n",
    "from sklearn.model_selection import train_test_split\n",
    "from transformers import DistilBertTokenizer, DistilBertForSequenceClassification, AdamW\n",
    "import torch\n",
    "from torch.utils.data import DataLoader, TensorDataset\n",
    "print(torch.cuda.is_available())\n",
    "DEVICE = torch.device('cuda')\n",
    "print(DEVICE)"
   ]
  },
  {
   "cell_type": "code",
   "execution_count": 8,
   "metadata": {},
   "outputs": [
    {
     "name": "stderr",
     "output_type": "stream",
     "text": [
      "Some weights of DistilBertForSequenceClassification were not initialized from the model checkpoint at distilbert-base-uncased and are newly initialized: ['classifier.bias', 'classifier.weight', 'pre_classifier.bias', 'pre_classifier.weight']\n",
      "You should probably TRAIN this model on a down-stream task to be able to use it for predictions and inference.\n",
      "c:\\Users\\sinaz\\.conda\\envs\\sina\\Lib\\site-packages\\transformers\\optimization.py:429: FutureWarning: This implementation of AdamW is deprecated and will be removed in a future version. Use the PyTorch implementation torch.optim.AdamW instead, or set `no_deprecation_warning=True` to disable this warning\n",
      "  warnings.warn(\n"
     ]
    },
    {
     "name": "stdout",
     "output_type": "stream",
     "text": [
      "Epoch 1/6, Loss: 0.5638235094117336, Train Accuracy: 0.7566598360655737\n",
      "Epoch 1/6, Validation Loss: 0.3572952949231671, Validation Accuracy: 0.8576612903225806\n",
      "Epoch 2/6, Loss: 0.2673838506834429, Train Accuracy: 0.8985655737704918\n",
      "Epoch 2/6, Validation Loss: 0.36078875103304464, Validation Accuracy: 0.8568548387096774\n",
      "Epoch 3/6, Loss: 0.1458199705745353, Train Accuracy: 0.9492827868852459\n",
      "Epoch 3/6, Validation Loss: 0.4350225581757484, Validation Accuracy: 0.8649193548387096\n",
      "Epoch 4/6, Loss: 0.08256977375932649, Train Accuracy: 0.9723360655737705\n",
      "Epoch 4/6, Validation Loss: 0.54813377096528, Validation Accuracy: 0.8528225806451613\n",
      "Epoch 5/6, Loss: 0.04871327719330543, Train Accuracy: 0.9864241803278688\n",
      "Epoch 5/6, Validation Loss: 0.644670850326938, Validation Accuracy: 0.8352822580645162\n",
      "Epoch 6/6, Loss: 0.03029251960297039, Train Accuracy: 0.9910348360655737\n",
      "Epoch 6/6, Validation Loss: 0.6924170566001727, Validation Accuracy: 0.8596774193548387\n"
     ]
    }
   ],
   "source": [
    "# Load dataframe\n",
    "df = pd.read_csv('../datasets/sentiment_dataset.csv',\n",
    "                names=['sentiment', 'text'],\n",
    "                encoding='utf-8', encoding_errors='replace')\n",
    "# Split data into training and validation sets\n",
    "train_texts, val_texts, train_labels, val_labels = train_test_split(df['text'], df['sentiment'], test_size=0.2, random_state=42)\n",
    "\n",
    "# Load pretrained DistilBERT tokenizer\n",
    "tokenizer = DistilBertTokenizer.from_pretrained('distilbert-base-uncased')\n",
    "\n",
    "# Tokenize texts and convert to tensors\n",
    "train_encodings = tokenizer(list(train_texts), truncation=True, padding=True, max_length=128)\n",
    "val_encodings = tokenizer(list(val_texts), truncation=True, padding=True, max_length=128)\n",
    "\n",
    "train_labels_encoded = [tokenizer.encode(label, add_special_tokens=False)[0] for label in train_labels]\n",
    "val_labels_encoded = [tokenizer.encode(label, add_special_tokens=False)[0] for label in val_labels]\n",
    "\n",
    "label_to_index = {'negative': 0, 'neutral': 1, 'positive': 2}\n",
    "train_labels_encoded = [label_to_index[label] for label in train_labels]\n",
    "val_labels_encoded = [label_to_index[label] for label in val_labels]\n",
    "\n",
    "train_dataset = TensorDataset(\n",
    "    torch.tensor(train_encodings['input_ids']),\n",
    "    torch.tensor(train_encodings['attention_mask']),\n",
    "    torch.tensor(train_labels_encoded)\n",
    ")\n",
    "\n",
    "val_dataset = TensorDataset(\n",
    "    torch.tensor(val_encodings['input_ids']),\n",
    "    torch.tensor(val_encodings['attention_mask']),\n",
    "    torch.tensor(val_labels_encoded)\n",
    ")\n",
    "\n",
    "# Load pretrained DistilBERT model\n",
    "model = DistilBertForSequenceClassification.from_pretrained('distilbert-base-uncased', num_labels=3)\n",
    "# Training parameters\n",
    "optimizer = AdamW(model.parameters(), lr=5e-5)\n",
    "epochs = 6\n",
    "batch_size = 32\n",
    "\n",
    "# DataLoaders\n",
    "train_dataloader = DataLoader(train_dataset, batch_size=batch_size, shuffle=True)\n",
    "val_dataloader = DataLoader(val_dataset, batch_size=batch_size)\n",
    "\n",
    "train_loss_list = []\n",
    "val_loss_list = []\n",
    "val_accuracy_list = []\n",
    "train_accuracy_list = []\n",
    "# Fine-tuning loop\n",
    "for epoch in range(epochs):\n",
    "    model.train()\n",
    "    total_loss = 0\n",
    "    num_batches = 0\n",
    "    temp_train_accuracy_list = []\n",
    "    for batch in train_dataloader:\n",
    "        optimizer.zero_grad()\n",
    "        input_ids, attention_mask, labels = batch\n",
    "        input_ids = input_ids.to(DEVICE)\n",
    "        attention_mask = attention_mask.to(DEVICE)\n",
    "        labels = labels.to(DEVICE)\n",
    "        model = model.to(DEVICE)\n",
    "        outputs = model(input_ids, attention_mask=attention_mask, labels=labels)\n",
    "        loss = outputs.loss\n",
    "        total_loss += loss.item()\n",
    "        num_batches += 1\n",
    "        loss.backward()\n",
    "        optimizer.step()\n",
    "        \n",
    "        predicted_labels = torch.argmax(outputs.logits, dim=1)\n",
    "        correct_predictions = (predicted_labels == labels).sum().item()\n",
    "        total_predictions = labels.size(0)\n",
    "        accuracy = correct_predictions / total_predictions\n",
    "        temp_train_accuracy_list.append(accuracy)\n",
    "    avg_train_accuracy = sum(temp_train_accuracy_list) / len(temp_train_accuracy_list)\n",
    "    avg_loss = total_loss / len(train_dataloader)\n",
    "    train_loss_list.append(avg_loss)\n",
    "    train_accuracy_list.append(avg_train_accuracy)\n",
    "    print(f'Epoch {epoch+1}/{epochs}, Loss: {avg_loss}, Train Accuracy: {100 * avg_train_accuracy:.2f}')\n",
    "    # Validation\n",
    "    model.eval()\n",
    "    val_loss = 0\n",
    "    num_batches = 0\n",
    "    temp_val_accuracy_list = []\n",
    "    for batch in val_dataloader:\n",
    "        input_ids, attention_mask, labels = batch\n",
    "        input_ids = input_ids.to(DEVICE)\n",
    "        attention_mask = attention_mask.to(DEVICE)\n",
    "        labels = labels.to(DEVICE)\n",
    "        model = model.to(DEVICE)\n",
    "        with torch.no_grad():\n",
    "            outputs = model(input_ids, attention_mask=attention_mask, labels=labels)\n",
    "        val_loss += outputs.loss.item()\n",
    "        num_batches += 1\n",
    "        # Calculate accuracy\n",
    "        predicted_labels = torch.argmax(outputs.logits, dim=1)\n",
    "        correct_predictions = (predicted_labels == labels).sum().item()\n",
    "        total_predictions = labels.size(0)\n",
    "        accuracy = correct_predictions / total_predictions\n",
    "        temp_val_accuracy_list.append(accuracy)\n",
    "\n",
    "    avg_val_loss = val_loss / num_batches\n",
    "    avg_val_accuracy = sum(temp_val_accuracy_list) / len(temp_val_accuracy_list)\n",
    "\n",
    "    val_loss_list.append(avg_val_loss)\n",
    "    val_accuracy_list.append(avg_val_accuracy)\n",
    "\n",
    "    print(f'Epoch {epoch+1}/{epochs}, Validation Loss: {avg_val_loss}, Validation Accuracy: {100*avg_val_accuracy:.2f}%')\n",
    "# Evaluation (optional)\n",
    "# After training, you can evaluate the model on a separate test set if available\n",
    "model.save_pretrained(\"../flair_model\")"
   ]
  },
  {
   "cell_type": "code",
   "execution_count": null,
   "metadata": {},
   "outputs": [],
   "source": []
  }
 ],
 "metadata": {
  "kernelspec": {
   "display_name": "test",
   "language": "python",
   "name": "python3"
  },
  "language_info": {
   "codemirror_mode": {
    "name": "ipython",
    "version": 3
   },
   "file_extension": ".py",
   "mimetype": "text/x-python",
   "name": "python",
   "nbconvert_exporter": "python",
   "pygments_lexer": "ipython3",
   "version": "3.12.2"
  }
 },
 "nbformat": 4,
 "nbformat_minor": 2
}
